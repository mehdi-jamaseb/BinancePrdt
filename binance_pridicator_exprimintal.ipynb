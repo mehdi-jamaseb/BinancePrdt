{
  "nbformat": 4,
  "nbformat_minor": 0,
  "metadata": {
    "colab": {
      "name": "binance pridicator exprimintal.ipynb",
      "provenance": [],
      "collapsed_sections": [],
      "authorship_tag": "ABX9TyMyhdJouVOxa5HWI21WmjXR",
      "include_colab_link": true
    },
    "kernelspec": {
      "name": "python3",
      "display_name": "Python 3"
    },
    "accelerator": "GPU"
  },
  "cells": [
    {
      "cell_type": "markdown",
      "metadata": {
        "id": "view-in-github",
        "colab_type": "text"
      },
      "source": [
        "<a href=\"https://colab.research.google.com/github/mehdi-jamaseb/BinancePrdt/blob/master/binance_pridicator_exprimintal.ipynb\" target=\"_parent\"><img src=\"https://colab.research.google.com/assets/colab-badge.svg\" alt=\"Open In Colab\"/></a>"
      ]
    },
    {
      "cell_type": "markdown",
      "metadata": {
        "id": "ApTJ1hGM-9hM",
        "colab_type": "text"
      },
      "source": [
        "#In the name of God\n",
        "###imports"
      ]
    },
    {
      "cell_type": "code",
      "metadata": {
        "id": "OraeVnKN-4F7",
        "colab_type": "code",
        "colab": {
          "base_uri": "https://localhost:8080/",
          "height": 81
        },
        "outputId": "bf4bfc32-681a-4553-b18b-d416c9069e8a"
      },
      "source": [
        "import pandas as pd\n",
        "import time\n",
        "import math\n",
        "import os.path\n",
        "import time\n",
        "from keras.callbacks import ModelCheckpoint,EarlyStopping\n",
        "from keras.models import Sequential, load_model\n",
        "from keras.layers import Activation, Dense, Dropout, LSTM, Convolution1D\n",
        "import matplotlib.pyplot as plt\n",
        "import numpy as np\n",
        "import numpy.matlib\n",
        "from sklearn.metrics import mean_absolute_error\n",
        "from google.colab import drive\n",
        "\n"
      ],
      "execution_count": 1,
      "outputs": [
        {
          "output_type": "stream",
          "text": [
            "Using TensorFlow backend.\n"
          ],
          "name": "stderr"
        },
        {
          "output_type": "display_data",
          "data": {
            "text/html": [
              "<p style=\"color: red;\">\n",
              "The default version of TensorFlow in Colab will soon switch to TensorFlow 2.x.<br>\n",
              "We recommend you <a href=\"https://www.tensorflow.org/guide/migrate\" target=\"_blank\">upgrade</a> now \n",
              "or ensure your notebook will continue to use TensorFlow 1.x via the <code>%tensorflow_version 1.x</code> magic:\n",
              "<a href=\"https://colab.research.google.com/notebooks/tensorflow_version.ipynb\" target=\"_blank\">more info</a>.</p>\n"
            ],
            "text/plain": [
              "<IPython.core.display.HTML object>"
            ]
          },
          "metadata": {
            "tags": []
          }
        }
      ]
    },
    {
      "cell_type": "markdown",
      "metadata": {
        "id": "VIKJalDIeo4W",
        "colab_type": "text"
      },
      "source": [
        "###initilize parameter"
      ]
    },
    {
      "cell_type": "code",
      "metadata": {
        "id": "W19YvrAsepQ4",
        "colab_type": "code",
        "outputId": "7cd9cc49-d4af-4071-a75a-638d0dd15235",
        "colab": {
          "base_uri": "https://localhost:8080/",
          "height": 250
        }
      },
      "source": [
        "drive.mount('/content/drive',force_remount=True)\n",
        "np.random.seed(42)\n",
        "samples       = 1000\n",
        "kandel        = '5m'\n",
        "symbol        = 'BTCUSDT'\n",
        "filename      = '/content/drive/My Drive/data/bnb/%s-%s-data.csv' % (symbol,kandel)\n",
        "df            = pd.read_csv(filename)\n",
        "dataCols      = ['open','close','low','high','volume']\n",
        "zeroBaseCols  = [True,True,True,True,False]\n",
        "df.set_index('timestamp', inplace=True)\n",
        "df            = df.apply(lambda col:pd.to_numeric(col, errors='coerce'))\n",
        "df.index      = df.index.astype(str)\n",
        "\n",
        "if samples>0:\n",
        "  df          = df.loc[df['volume']>0.001,dataCols].tail(samples)\n",
        "else:\n",
        "  df          = df.loc[df['volume']>0.001,dataCols]\n",
        "outputs       = pd.DataFrame(data=['close','high'])\n",
        "window_len    = 99\n",
        "test_size     = 0.2\n",
        "zero_base     = True\n",
        "modelNames    = ['LSTM1','LSTM2']\n",
        "print(df.tail(5))"
      ],
      "execution_count": 2,
      "outputs": [
        {
          "output_type": "stream",
          "text": [
            "Go to this URL in a browser: https://accounts.google.com/o/oauth2/auth?client_id=947318989803-6bn6qk8qdgf4n4g3pfee6491hc0brc4i.apps.googleusercontent.com&redirect_uri=urn%3aietf%3awg%3aoauth%3a2.0%3aoob&response_type=code&scope=email%20https%3a%2f%2fwww.googleapis.com%2fauth%2fdocs.test%20https%3a%2f%2fwww.googleapis.com%2fauth%2fdrive%20https%3a%2f%2fwww.googleapis.com%2fauth%2fdrive.photos.readonly%20https%3a%2f%2fwww.googleapis.com%2fauth%2fpeopleapi.readonly\n",
            "\n",
            "Enter your authorization code:\n",
            "··········\n",
            "Mounted at /content/drive\n",
            "                        open    close      low     high      volume\n",
            "timestamp                                                          \n",
            "2020-02-10 14:05:00  9815.67  9841.08  9815.24  9843.89  177.836224\n",
            "2020-02-10 14:10:00  9841.91  9843.72  9838.31  9852.27  193.570387\n",
            "2020-02-10 14:15:00  9846.04  9839.00  9837.01  9850.60  174.423399\n",
            "2020-02-10 14:20:00  9838.94  9841.59  9835.30  9845.02   28.681992\n",
            "2020-02-10 14:20:00  9838.94  9831.48  9827.89  9845.02   52.540787\n"
          ],
          "name": "stdout"
        }
      ]
    },
    {
      "cell_type": "markdown",
      "metadata": {
        "id": "M_hZVC8PefkG",
        "colab_type": "text"
      },
      "source": [
        "###Functions"
      ]
    },
    {
      "cell_type": "code",
      "metadata": {
        "id": "4hg3h9DTeezW",
        "colab_type": "code",
        "colab": {}
      },
      "source": [
        "def trainTestSplit(df, test_size=0.2):    \n",
        "  split_row = len(df) - int(test_size * len(df))\n",
        "  train_data = df.iloc[:split_row]        \n",
        "  test_data = df.iloc[split_row:]    \n",
        "  return train_data, test_data\n",
        "def linePlot(line1, line2, label1=None, label2=None, title='', lw=2):    \n",
        "  fig, ax = plt.subplots(1, figsize=(13, 7))    \n",
        "  ax.plot(line1, label=label1, linewidth=lw)    \n",
        "  ax.plot(line2, label=label2, linewidth=lw)    \n",
        "  ax.set_ylabel('price [USDT]', fontsize=14)\n",
        "  ax.set_title(title, fontsize=16)\n",
        "  ax.legend(loc='best', fontsize=16)\n",
        "def normaliseZeroBase(df):\n",
        "  return df / df.iloc[0] - 1\n",
        "def normaliseMinMax(df):\n",
        "    return (df - df['low'].min()) / (df['high'].max() - df['low'].min())\n",
        "def extractWindowData(df, window_len=5, zero_base=True):\n",
        "  window_data = []    \n",
        "  #start_time = time.time()\n",
        "  for idx in range(len(df) - window_len):        \n",
        "    tmp           = df[idx: (idx + window_len)].copy()\n",
        "    if zero_base:\n",
        "      tmp         = normaliseZeroBase(tmp)\n",
        "    window_data.append(tmp.values)\n",
        "    #if (idx % 10000)==0:\n",
        "    #  print(\"--- extract iteration(%d) %s seconds ---\" % (idx,(time.time() - start_time)))    \n",
        "    #  start_time = time.time()\n",
        "  return np.array(window_data)\n",
        "def extractX(df,outputs, window_len=5, zero_base=True,isTest=False):\n",
        "    k=0\n",
        "    x = np.zeros((len(df)-window_len,window_len,len(df.columns)))\n",
        "    for i in range (window_len):    \n",
        "        x[:,i,:] = df.iloc[i:-(window_len-i),:].values    \n",
        "        if zero_base:\n",
        "            if i!=0:\n",
        "                x[:,i,:] = x[:,i,:]/x[:,0,:]-1        \n",
        "        k = k+ len(df.columns)\n",
        "    if zero_base:\n",
        "      x[:,0,:] =0;  \n",
        "    if isTest:\n",
        "      return x\n",
        "    else:\n",
        "      return x[:-len(outputs)]\n",
        "def extractY(df,outputs,window_len,zero_base,isTest=False):\n",
        "    nCol  = outputs.count().sum()\n",
        "    y     = np.zeros((len(df)-window_len,nCol))\n",
        "    k     = 0;\n",
        "    for i in range(len(outputs)):\n",
        "        for j in range(len(outputs.columns)):\n",
        "          if outputs.iloc[i,j]!=None:\n",
        "            if i==0:\n",
        "                y[:,k]  = df[outputs.iloc[i,j]][(window_len+i):].values\n",
        "            else:\n",
        "                y[:-i,k]= df[outputs.iloc[i,j]][(window_len+i):].values        \n",
        "            if zero_base:\n",
        "              y[:,k] = y[:,k] / df[outputs.iloc[i,j]][:-window_len].values -1\n",
        "            k = k+1\n",
        "    if isTest:\n",
        "      return y\n",
        "    else:\n",
        "      return y[:-len(outputs),:]\n",
        "#def pridiction(X,model):\n",
        "\n",
        "def createDatasets(train_data,test_data, window_len=10, zero_base=True):  \n",
        "    X_train   = extractX(train_data,outputs, window_len, zero_base)    \n",
        "    X_test    = extractX(test_data, outputs,window_len, zero_base)    \n",
        "    y_train   = extractY(train_data,outputs, window_len, zero_base)\n",
        "    y_test    = extractY(test_data,outputs, window_len, zero_base)\n",
        "    return X_train, X_test, y_train, y_test\n",
        "def prepairData(df,target_col, window_len=10, zero_base=True, test_size=0.2,recreate=False):\n",
        "  datasetFiles = ['X_train','X_test','y_train','y_test']\n",
        "  recreateFile = recreate;\n",
        "  outputsSize  = sum(outputs.count())\n",
        "  for fname in datasetFiles:    \n",
        "    f = '/content/drive/My Drive/data/bnb/%s-%s-w%d-%s-%d.npy' % (fname,symbol, window_len,kandel,outputsSize)\n",
        "    if not os.path.isfile(f): \n",
        "      recreateFile=True\n",
        "      break\n",
        "  if recreateFile:\n",
        "    print('Create Datasets ')  \n",
        "    train, test  = trainTestSplit(df, test_size=test_size)    \n",
        "    X_train, X_test, y_train, y_test = createDatasets(train,test, target_col, window_len=window_len, zero_base=zero_base)  \n",
        "    train.to_pickle('/content/drive/My Drive/data/bnb/%s-%s-w%d-%s-%d.npy' % ('train',symbol, window_len,kandel,outputsSize))  \n",
        "    test.to_pickle ('/content/drive/My Drive/data/bnb/%s-%s-w%d-%s-%d.npy' % ('test' ,symbol, window_len,kandel,outputsSize))   \n",
        "    np.save('/content/drive/My Drive/data/bnb/%s-%s-w%d-%s-%d.npy' % ('X_train',symbol, window_len,kandel,outputsSize),X_train)  \n",
        "    np.save('/content/drive/My Drive/data/bnb/%s-%s-w%d-%s-%d.npy' % ('X_test' ,symbol, window_len,kandel,outputsSize),X_test)  \n",
        "    np.save('/content/drive/My Drive/data/bnb/%s-%s-w%d-%s-%d.npy' % ('y_train',symbol, window_len,kandel,outputsSize),y_train)  \n",
        "    np.save('/content/drive/My Drive/data/bnb/%s-%s-w%d-%s-%d.npy' % ('y_test' ,symbol, window_len,kandel,outputsSize),y_test)\n",
        "  else:\n",
        "    print('Load Datasets ')\n",
        "    train   = pd.read_pickle('/content/drive/My Drive/data/bnb/%s-%s-w%d-%s-%d.npy' % ('train',symbol, window_len,kandel,outputsSize))\n",
        "    test    = pd.read_pickle('/content/drive/My Drive/data/bnb/%s-%s-w%d-%s-%d.npy' % ('test' ,symbol, window_len,kandel,outputsSize))\n",
        "    X_train = np.load('/content/drive/My Drive/data/bnb/%s-%s-w%d-%s-%d.npy' % ('X_train',symbol, window_len,kandel,outputsSize))\n",
        "    X_test  = np.load('/content/drive/My Drive/data/bnb/%s-%s-w%d-%s-%d.npy' % ('X_test' ,symbol, window_len,kandel,outputsSize))\n",
        "    y_train = np.load('/content/drive/My Drive/data/bnb/%s-%s-w%d-%s-%d.npy' % ('y_train',symbol, window_len,kandel,outputsSize))\n",
        "    y_test  = np.load('/content/drive/My Drive/data/bnb/%s-%s-w%d-%s-%d.npy' % ('y_test' ,symbol, window_len,kandel,outputsSize))\n",
        "  return train, test, X_train, X_test, y_train, y_test"
      ],
      "execution_count": 0,
      "outputs": []
    },
    {
      "cell_type": "markdown",
      "metadata": {
        "id": "JD73A1WQW_Qp",
        "colab_type": "text"
      },
      "source": [
        "###models build functions"
      ]
    },
    {
      "cell_type": "code",
      "metadata": {
        "id": "ORokpM_FXGPF",
        "colab_type": "code",
        "colab": {}
      },
      "source": [
        "metrics = ['mse']\n",
        "def build_lstm_1_model(input_data, outputs, neurons=100, activ_func='linear', dropout=0.2, loss='mse', optimizer='adam'):\n",
        "    model = Sequential()\n",
        "    model.add(LSTM(neurons, input_shape=(input_data.shape[1], input_data.shape[2])))\n",
        "    model.add(Dropout(dropout))\n",
        "    model.add(Dense(units=outputs.count().sum()))\n",
        "    model.add(Activation(activ_func))\n",
        "    model.compile(loss=loss, optimizer=optimizer, metrics=metrics)\n",
        "    return model\n",
        "def build_lstm_2_model(input_data, outputs, neurons=20, activ_func='linear', dropout=0.2, loss='mse', optimizer='adam'):\n",
        "    model = Sequential()\n",
        "    model.add(LSTM(neurons, input_shape=(input_data.shape[1], input_data.shape[2]), return_sequences=True))\n",
        "    model.add(Dropout(dropout))\n",
        "    model.add(LSTM(neurons, return_sequences=True))\n",
        "    model.add(Dropout(dropout))\n",
        "    model.add(LSTM(neurons))\n",
        "    model.add(Dropout(dropout))\n",
        "    model.add(Dense(units=outputs.count().sum(), activation=activ_func))\n",
        "    model.compile(loss=loss, optimizer=optimizer, metrics=metrics)\n",
        "    return model\n",
        "def getBuildedModel(X_train,modelName,outputs):\n",
        "    if modelName == modelNames[0]:        \n",
        "        epochs        = 20\n",
        "        batchSize     = 256\n",
        "        model         = build_lstm_1_model(X_train, outputs, neurons=200, dropout=0.2, loss='mse', optimizer='adam')\n",
        "    elif modelName == modelNames[1]:        \n",
        "        epochs        = 100\n",
        "        batchSize     = 256\n",
        "        model         = build_lstm_2_model(X_train, outputs, neurons=20, dropout=0.2, loss='mse', optimizer='adam')    \n",
        "    return epochs, batchSize, model "
      ],
      "execution_count": 0,
      "outputs": []
    },
    {
      "cell_type": "markdown",
      "metadata": {
        "id": "yvAVfBLhkmad",
        "colab_type": "text"
      },
      "source": [
        "###data visualation"
      ]
    },
    {
      "cell_type": "code",
      "metadata": {
        "id": "ykLjVdmJqgWz",
        "colab_type": "code",
        "colab": {}
      },
      "source": [
        "train, test  = trainTestSplit(df, test_size=test_size)    \n",
        "X_train, X_test, y_train, y_test = createDatasets(train,test, window_len=window_len, zero_base=zero_base)  "
      ],
      "execution_count": 0,
      "outputs": []
    },
    {
      "cell_type": "markdown",
      "metadata": {
        "id": "W_hR6pqoOyHg",
        "colab_type": "text"
      },
      "source": [
        "###Data visualize"
      ]
    },
    {
      "cell_type": "markdown",
      "metadata": {
        "id": "03WTJmZbkwpf",
        "colab_type": "text"
      },
      "source": [
        "###Train models"
      ]
    },
    {
      "cell_type": "code",
      "metadata": {
        "id": "yXfeW8m3bqnl",
        "colab_type": "code",
        "colab": {
          "base_uri": "https://localhost:8080/",
          "height": 1000
        },
        "outputId": "9baba259-2b4b-4513-bd9e-59d0011b447d"
      },
      "source": [
        "k           = 0\n",
        "models      = []\n",
        "histories   = []\n",
        "fig = plt.figure()\n",
        "ax = fig.add_subplot(1, 1, 1)\n",
        "colors = ['#1f77b4','#ff7f0e','#2ca02c','#d62728','#9467bd','#8c564b','#e377c2','#7f7f7f','#bcbd22','#17becf','#1a55FF']\n",
        "\n",
        "for iter in range(len(modelNames)):\n",
        "  backUpFile    = '/content/drive/My Drive/data/bnb/%s-%dw.hdf5'% (modelNames[iter],window_len)\n",
        "  metaDataFile  = '/content/drive/My Drive/data/bnb/%s-%dw-meta.npy'% (modelNames[iter],window_len)\n",
        "  checkPointer  = ModelCheckpoint(filepath=backUpFile,save_best_only=True,monitor='loss')  \n",
        "  erStop        = EarlyStopping(monitor='loss', mode='auto',patience=5)\n",
        "  \n",
        "  if not os.path.isfile(backUpFile): \n",
        "    print ('build %s the model'% modelNames[iter])\n",
        "    epochs,batchSize,model    = getBuildedModel(X_train,modelNames[iter],outputs)    \n",
        "    np.save(metaDataFile,[epochs,batchSize])\n",
        "    h        = model.fit( X_train, y_train,validation_data=(X_test,y_test), epochs=epochs, batch_size=batchSize, verbose=1, shuffle=True, callbacks=[checkPointer,erStop])\n",
        "    models.append(model)\n",
        "    histories.append (h)\n",
        "  else:\n",
        "    print ('load %s the model'% modelNames[iter])\n",
        "    epochs, batchSize = np.load(metaDataFile)\n",
        "    model     = load_model(backUpFile)    \n",
        "    h         = model.fit( X_train, y_train, validation_data=(X_test,y_test),epochs=epochs, batch_size=batchSize, verbose=1, shuffle=True, callbacks=[checkPointer,erStop])\n",
        "    models.append(model)    \n",
        "  #ax.plot( h.history['loss'], color=colors[iter*2],label=modelNames[iter]+'_train')\n",
        "  ax.plot( h.history['val_loss'], color=colors[iter],label=modelNames[iter]+'_test')\n",
        "  ax.legend(loc='upper right')\n",
        "plt.show()\n"
      ],
      "execution_count": 9,
      "outputs": [
        {
          "output_type": "stream",
          "text": [
            "build LSTM1 the model\n",
            "WARNING:tensorflow:From /usr/local/lib/python3.6/dist-packages/keras/backend/tensorflow_backend.py:66: The name tf.get_default_graph is deprecated. Please use tf.compat.v1.get_default_graph instead.\n",
            "\n",
            "WARNING:tensorflow:From /usr/local/lib/python3.6/dist-packages/keras/backend/tensorflow_backend.py:541: The name tf.placeholder is deprecated. Please use tf.compat.v1.placeholder instead.\n",
            "\n",
            "WARNING:tensorflow:From /usr/local/lib/python3.6/dist-packages/keras/backend/tensorflow_backend.py:4432: The name tf.random_uniform is deprecated. Please use tf.random.uniform instead.\n",
            "\n",
            "WARNING:tensorflow:From /usr/local/lib/python3.6/dist-packages/keras/backend/tensorflow_backend.py:148: The name tf.placeholder_with_default is deprecated. Please use tf.compat.v1.placeholder_with_default instead.\n",
            "\n",
            "WARNING:tensorflow:From /usr/local/lib/python3.6/dist-packages/keras/backend/tensorflow_backend.py:3733: calling dropout (from tensorflow.python.ops.nn_ops) with keep_prob is deprecated and will be removed in a future version.\n",
            "Instructions for updating:\n",
            "Please use `rate` instead of `keep_prob`. Rate should be set to `rate = 1 - keep_prob`.\n",
            "WARNING:tensorflow:From /usr/local/lib/python3.6/dist-packages/keras/optimizers.py:793: The name tf.train.Optimizer is deprecated. Please use tf.compat.v1.train.Optimizer instead.\n",
            "\n",
            "WARNING:tensorflow:From /usr/local/lib/python3.6/dist-packages/tensorflow_core/python/ops/math_grad.py:1424: where (from tensorflow.python.ops.array_ops) is deprecated and will be removed in a future version.\n",
            "Instructions for updating:\n",
            "Use tf.where in 2.0, which has the same broadcast rule as np.where\n",
            "WARNING:tensorflow:From /usr/local/lib/python3.6/dist-packages/keras/backend/tensorflow_backend.py:1033: The name tf.assign_add is deprecated. Please use tf.compat.v1.assign_add instead.\n",
            "\n",
            "WARNING:tensorflow:From /usr/local/lib/python3.6/dist-packages/keras/backend/tensorflow_backend.py:1020: The name tf.assign is deprecated. Please use tf.compat.v1.assign instead.\n",
            "\n",
            "WARNING:tensorflow:From /usr/local/lib/python3.6/dist-packages/keras/backend/tensorflow_backend.py:3005: The name tf.Session is deprecated. Please use tf.compat.v1.Session instead.\n",
            "\n",
            "Train on 699 samples, validate on 99 samples\n",
            "Epoch 1/20\n",
            "WARNING:tensorflow:From /usr/local/lib/python3.6/dist-packages/keras/backend/tensorflow_backend.py:190: The name tf.get_default_session is deprecated. Please use tf.compat.v1.get_default_session instead.\n",
            "\n",
            "WARNING:tensorflow:From /usr/local/lib/python3.6/dist-packages/keras/backend/tensorflow_backend.py:197: The name tf.ConfigProto is deprecated. Please use tf.compat.v1.ConfigProto instead.\n",
            "\n",
            "WARNING:tensorflow:From /usr/local/lib/python3.6/dist-packages/keras/backend/tensorflow_backend.py:207: The name tf.global_variables is deprecated. Please use tf.compat.v1.global_variables instead.\n",
            "\n",
            "WARNING:tensorflow:From /usr/local/lib/python3.6/dist-packages/keras/backend/tensorflow_backend.py:216: The name tf.is_variable_initialized is deprecated. Please use tf.compat.v1.is_variable_initialized instead.\n",
            "\n",
            "WARNING:tensorflow:From /usr/local/lib/python3.6/dist-packages/keras/backend/tensorflow_backend.py:223: The name tf.variables_initializer is deprecated. Please use tf.compat.v1.variables_initializer instead.\n",
            "\n",
            "699/699 [==============================] - 11s 15ms/step - loss: 0.0049 - mean_squared_error: 0.0049 - val_loss: 0.0046 - val_mean_squared_error: 0.0046\n",
            "Epoch 2/20\n",
            "699/699 [==============================] - 0s 703us/step - loss: 0.0024 - mean_squared_error: 0.0024 - val_loss: 0.0038 - val_mean_squared_error: 0.0038\n",
            "Epoch 3/20\n",
            "699/699 [==============================] - 0s 706us/step - loss: 0.0016 - mean_squared_error: 0.0016 - val_loss: 0.0056 - val_mean_squared_error: 0.0056\n",
            "Epoch 4/20\n",
            "699/699 [==============================] - 1s 783us/step - loss: 0.0020 - mean_squared_error: 0.0020 - val_loss: 0.0028 - val_mean_squared_error: 0.0028\n",
            "Epoch 5/20\n",
            "699/699 [==============================] - 1s 742us/step - loss: 0.0013 - mean_squared_error: 0.0013 - val_loss: 0.0012 - val_mean_squared_error: 0.0012\n",
            "Epoch 6/20\n",
            "699/699 [==============================] - 1s 794us/step - loss: 0.0012 - mean_squared_error: 0.0012 - val_loss: 0.0037 - val_mean_squared_error: 0.0037\n",
            "Epoch 7/20\n",
            "699/699 [==============================] - 1s 780us/step - loss: 0.0012 - mean_squared_error: 0.0012 - val_loss: 8.8708e-04 - val_mean_squared_error: 8.8708e-04\n",
            "Epoch 8/20\n",
            "699/699 [==============================] - 1s 883us/step - loss: 0.0010 - mean_squared_error: 0.0010 - val_loss: 4.6139e-04 - val_mean_squared_error: 4.6139e-04\n",
            "Epoch 9/20\n",
            "699/699 [==============================] - 1s 814us/step - loss: 8.4420e-04 - mean_squared_error: 8.4420e-04 - val_loss: 8.3780e-04 - val_mean_squared_error: 8.3780e-04\n",
            "Epoch 10/20\n",
            "699/699 [==============================] - 1s 716us/step - loss: 8.1204e-04 - mean_squared_error: 8.1204e-04 - val_loss: 6.4883e-04 - val_mean_squared_error: 6.4883e-04\n",
            "Epoch 11/20\n",
            "699/699 [==============================] - 1s 791us/step - loss: 8.8065e-04 - mean_squared_error: 8.8065e-04 - val_loss: 8.2181e-04 - val_mean_squared_error: 8.2181e-04\n",
            "Epoch 12/20\n",
            "699/699 [==============================] - 1s 852us/step - loss: 7.3548e-04 - mean_squared_error: 7.3548e-04 - val_loss: 9.1930e-04 - val_mean_squared_error: 9.1930e-04\n",
            "Epoch 13/20\n",
            "699/699 [==============================] - 1s 807us/step - loss: 5.9506e-04 - mean_squared_error: 5.9506e-04 - val_loss: 4.1118e-04 - val_mean_squared_error: 4.1118e-04\n",
            "Epoch 14/20\n",
            "699/699 [==============================] - 1s 742us/step - loss: 6.3764e-04 - mean_squared_error: 6.3764e-04 - val_loss: 5.2469e-04 - val_mean_squared_error: 5.2469e-04\n",
            "Epoch 15/20\n",
            "699/699 [==============================] - 1s 749us/step - loss: 5.9411e-04 - mean_squared_error: 5.9411e-04 - val_loss: 7.0891e-04 - val_mean_squared_error: 7.0891e-04\n",
            "Epoch 16/20\n",
            "699/699 [==============================] - 0s 682us/step - loss: 5.7853e-04 - mean_squared_error: 5.7853e-04 - val_loss: 6.6524e-04 - val_mean_squared_error: 6.6524e-04\n",
            "Epoch 17/20\n",
            "699/699 [==============================] - 0s 674us/step - loss: 4.9171e-04 - mean_squared_error: 4.9171e-04 - val_loss: 1.0567e-04 - val_mean_squared_error: 1.0567e-04\n",
            "Epoch 18/20\n",
            "699/699 [==============================] - 1s 716us/step - loss: 5.3992e-04 - mean_squared_error: 5.3992e-04 - val_loss: 1.0395e-04 - val_mean_squared_error: 1.0395e-04\n",
            "Epoch 19/20\n",
            "699/699 [==============================] - 1s 783us/step - loss: 5.0539e-04 - mean_squared_error: 5.0539e-04 - val_loss: 3.4446e-04 - val_mean_squared_error: 3.4446e-04\n",
            "Epoch 20/20\n",
            "699/699 [==============================] - 1s 859us/step - loss: 4.8813e-04 - mean_squared_error: 4.8813e-04 - val_loss: 5.7204e-04 - val_mean_squared_error: 5.7204e-04\n",
            "build LSTM2 the model\n",
            "Train on 699 samples, validate on 99 samples\n",
            "Epoch 1/100\n",
            "699/699 [==============================] - 3s 5ms/step - loss: 0.0019 - mean_squared_error: 0.0019 - val_loss: 0.0014 - val_mean_squared_error: 0.0014\n",
            "Epoch 2/100\n",
            "699/699 [==============================] - 2s 2ms/step - loss: 7.9178e-04 - mean_squared_error: 7.9178e-04 - val_loss: 0.0015 - val_mean_squared_error: 0.0015\n",
            "Epoch 3/100\n",
            "699/699 [==============================] - 2s 2ms/step - loss: 6.7728e-04 - mean_squared_error: 6.7728e-04 - val_loss: 0.0021 - val_mean_squared_error: 0.0021\n",
            "Epoch 4/100\n",
            "699/699 [==============================] - 2s 2ms/step - loss: 5.4000e-04 - mean_squared_error: 5.4000e-04 - val_loss: 0.0019 - val_mean_squared_error: 0.0019\n",
            "Epoch 5/100\n",
            "699/699 [==============================] - 2s 2ms/step - loss: 3.9752e-04 - mean_squared_error: 3.9752e-04 - val_loss: 0.0013 - val_mean_squared_error: 0.0013\n",
            "Epoch 6/100\n",
            "699/699 [==============================] - 2s 2ms/step - loss: 3.1317e-04 - mean_squared_error: 3.1317e-04 - val_loss: 8.7256e-04 - val_mean_squared_error: 8.7256e-04\n",
            "Epoch 7/100\n",
            "699/699 [==============================] - 2s 2ms/step - loss: 3.0873e-04 - mean_squared_error: 3.0873e-04 - val_loss: 7.2354e-04 - val_mean_squared_error: 7.2354e-04\n",
            "Epoch 8/100\n",
            "699/699 [==============================] - 2s 3ms/step - loss: 2.7658e-04 - mean_squared_error: 2.7658e-04 - val_loss: 8.3556e-04 - val_mean_squared_error: 8.3556e-04\n",
            "Epoch 9/100\n",
            "699/699 [==============================] - 2s 3ms/step - loss: 2.0985e-04 - mean_squared_error: 2.0985e-04 - val_loss: 0.0010 - val_mean_squared_error: 0.0010\n",
            "Epoch 10/100\n",
            "699/699 [==============================] - 2s 3ms/step - loss: 1.7952e-04 - mean_squared_error: 1.7952e-04 - val_loss: 0.0012 - val_mean_squared_error: 0.0012\n",
            "Epoch 11/100\n",
            "699/699 [==============================] - 2s 2ms/step - loss: 1.7920e-04 - mean_squared_error: 1.7920e-04 - val_loss: 0.0012 - val_mean_squared_error: 0.0012\n",
            "Epoch 12/100\n",
            "699/699 [==============================] - 2s 2ms/step - loss: 1.7750e-04 - mean_squared_error: 1.7750e-04 - val_loss: 0.0012 - val_mean_squared_error: 0.0012\n",
            "Epoch 13/100\n",
            "699/699 [==============================] - 2s 2ms/step - loss: 1.6443e-04 - mean_squared_error: 1.6443e-04 - val_loss: 0.0012 - val_mean_squared_error: 0.0012\n",
            "Epoch 14/100\n",
            "699/699 [==============================] - 2s 2ms/step - loss: 1.4697e-04 - mean_squared_error: 1.4697e-04 - val_loss: 0.0012 - val_mean_squared_error: 0.0012\n",
            "Epoch 15/100\n",
            "699/699 [==============================] - 2s 2ms/step - loss: 1.3426e-04 - mean_squared_error: 1.3426e-04 - val_loss: 0.0011 - val_mean_squared_error: 0.0011\n",
            "Epoch 16/100\n",
            "699/699 [==============================] - 2s 2ms/step - loss: 1.4687e-04 - mean_squared_error: 1.4687e-04 - val_loss: 0.0011 - val_mean_squared_error: 0.0011\n",
            "Epoch 17/100\n",
            "699/699 [==============================] - 2s 2ms/step - loss: 1.2725e-04 - mean_squared_error: 1.2725e-04 - val_loss: 0.0010 - val_mean_squared_error: 0.0010\n",
            "Epoch 18/100\n",
            "699/699 [==============================] - 2s 3ms/step - loss: 1.2506e-04 - mean_squared_error: 1.2506e-04 - val_loss: 0.0011 - val_mean_squared_error: 0.0011\n",
            "Epoch 19/100\n",
            "699/699 [==============================] - 1s 2ms/step - loss: 1.2067e-04 - mean_squared_error: 1.2067e-04 - val_loss: 0.0012 - val_mean_squared_error: 0.0012\n",
            "Epoch 20/100\n",
            "699/699 [==============================] - 2s 3ms/step - loss: 1.1999e-04 - mean_squared_error: 1.1999e-04 - val_loss: 0.0012 - val_mean_squared_error: 0.0012\n",
            "Epoch 21/100\n",
            "699/699 [==============================] - 2s 2ms/step - loss: 1.1597e-04 - mean_squared_error: 1.1597e-04 - val_loss: 0.0012 - val_mean_squared_error: 0.0012\n",
            "Epoch 22/100\n",
            "699/699 [==============================] - 2s 2ms/step - loss: 1.1594e-04 - mean_squared_error: 1.1594e-04 - val_loss: 0.0011 - val_mean_squared_error: 0.0011\n",
            "Epoch 23/100\n",
            "699/699 [==============================] - 2s 2ms/step - loss: 1.0967e-04 - mean_squared_error: 1.0967e-04 - val_loss: 0.0010 - val_mean_squared_error: 0.0010\n",
            "Epoch 24/100\n",
            "699/699 [==============================] - 2s 2ms/step - loss: 1.0352e-04 - mean_squared_error: 1.0352e-04 - val_loss: 9.6933e-04 - val_mean_squared_error: 9.6933e-04\n",
            "Epoch 25/100\n",
            "699/699 [==============================] - 2s 2ms/step - loss: 1.0800e-04 - mean_squared_error: 1.0800e-04 - val_loss: 9.9448e-04 - val_mean_squared_error: 9.9448e-04\n",
            "Epoch 26/100\n",
            "699/699 [==============================] - 2s 3ms/step - loss: 9.5326e-05 - mean_squared_error: 9.5326e-05 - val_loss: 0.0010 - val_mean_squared_error: 0.0010\n",
            "Epoch 27/100\n",
            "699/699 [==============================] - 2s 2ms/step - loss: 9.8974e-05 - mean_squared_error: 9.8974e-05 - val_loss: 0.0011 - val_mean_squared_error: 0.0011\n",
            "Epoch 28/100\n",
            "699/699 [==============================] - 2s 2ms/step - loss: 9.6106e-05 - mean_squared_error: 9.6106e-05 - val_loss: 0.0011 - val_mean_squared_error: 0.0011\n",
            "Epoch 29/100\n",
            "699/699 [==============================] - 1s 2ms/step - loss: 9.3767e-05 - mean_squared_error: 9.3767e-05 - val_loss: 0.0011 - val_mean_squared_error: 0.0011\n",
            "Epoch 30/100\n",
            "699/699 [==============================] - 1s 2ms/step - loss: 9.6222e-05 - mean_squared_error: 9.6222e-05 - val_loss: 0.0011 - val_mean_squared_error: 0.0011\n",
            "Epoch 31/100\n",
            "699/699 [==============================] - 2s 3ms/step - loss: 9.3484e-05 - mean_squared_error: 9.3484e-05 - val_loss: 0.0011 - val_mean_squared_error: 0.0011\n",
            "Epoch 32/100\n",
            "699/699 [==============================] - 2s 2ms/step - loss: 9.0750e-05 - mean_squared_error: 9.0750e-05 - val_loss: 0.0011 - val_mean_squared_error: 0.0011\n",
            "Epoch 33/100\n",
            "699/699 [==============================] - 1s 2ms/step - loss: 9.0632e-05 - mean_squared_error: 9.0632e-05 - val_loss: 0.0010 - val_mean_squared_error: 0.0010\n",
            "Epoch 34/100\n",
            "699/699 [==============================] - 2s 2ms/step - loss: 8.7361e-05 - mean_squared_error: 8.7361e-05 - val_loss: 0.0010 - val_mean_squared_error: 0.0010\n",
            "Epoch 35/100\n",
            "699/699 [==============================] - 1s 2ms/step - loss: 8.7698e-05 - mean_squared_error: 8.7698e-05 - val_loss: 0.0010 - val_mean_squared_error: 0.0010\n",
            "Epoch 36/100\n",
            "699/699 [==============================] - 1s 2ms/step - loss: 8.0548e-05 - mean_squared_error: 8.0548e-05 - val_loss: 0.0010 - val_mean_squared_error: 0.0010\n",
            "Epoch 37/100\n",
            "699/699 [==============================] - 2s 3ms/step - loss: 8.4032e-05 - mean_squared_error: 8.4032e-05 - val_loss: 0.0011 - val_mean_squared_error: 0.0011\n",
            "Epoch 38/100\n",
            "699/699 [==============================] - 2s 2ms/step - loss: 8.1241e-05 - mean_squared_error: 8.1241e-05 - val_loss: 0.0010 - val_mean_squared_error: 0.0010\n",
            "Epoch 39/100\n",
            "699/699 [==============================] - 2s 2ms/step - loss: 8.3463e-05 - mean_squared_error: 8.3463e-05 - val_loss: 0.0010 - val_mean_squared_error: 0.0010\n",
            "Epoch 40/100\n",
            "699/699 [==============================] - 2s 2ms/step - loss: 8.1118e-05 - mean_squared_error: 8.1118e-05 - val_loss: 0.0010 - val_mean_squared_error: 0.0010\n",
            "Epoch 41/100\n",
            "699/699 [==============================] - 1s 2ms/step - loss: 7.8649e-05 - mean_squared_error: 7.8649e-05 - val_loss: 0.0010 - val_mean_squared_error: 0.0010\n",
            "Epoch 42/100\n",
            "699/699 [==============================] - 2s 2ms/step - loss: 7.9172e-05 - mean_squared_error: 7.9172e-05 - val_loss: 0.0010 - val_mean_squared_error: 0.0010\n",
            "Epoch 43/100\n",
            "699/699 [==============================] - 2s 2ms/step - loss: 8.3359e-05 - mean_squared_error: 8.3359e-05 - val_loss: 9.9776e-04 - val_mean_squared_error: 9.9776e-04\n",
            "Epoch 44/100\n",
            "699/699 [==============================] - 2s 3ms/step - loss: 8.0864e-05 - mean_squared_error: 8.0864e-05 - val_loss: 9.9769e-04 - val_mean_squared_error: 9.9769e-04\n",
            "Epoch 45/100\n",
            "699/699 [==============================] - 2s 2ms/step - loss: 7.9262e-05 - mean_squared_error: 7.9262e-05 - val_loss: 9.9240e-04 - val_mean_squared_error: 9.9240e-04\n",
            "Epoch 46/100\n",
            "699/699 [==============================] - 2s 2ms/step - loss: 7.5811e-05 - mean_squared_error: 7.5811e-05 - val_loss: 9.8281e-04 - val_mean_squared_error: 9.8281e-04\n",
            "Epoch 47/100\n",
            "699/699 [==============================] - 2s 2ms/step - loss: 7.5474e-05 - mean_squared_error: 7.5474e-05 - val_loss: 9.8154e-04 - val_mean_squared_error: 9.8154e-04\n",
            "Epoch 48/100\n",
            "699/699 [==============================] - 2s 2ms/step - loss: 7.5566e-05 - mean_squared_error: 7.5566e-05 - val_loss: 9.8120e-04 - val_mean_squared_error: 9.8120e-04\n",
            "Epoch 49/100\n",
            "699/699 [==============================] - 2s 2ms/step - loss: 7.3024e-05 - mean_squared_error: 7.3024e-05 - val_loss: 9.7016e-04 - val_mean_squared_error: 9.7016e-04\n",
            "Epoch 50/100\n",
            "699/699 [==============================] - 2s 2ms/step - loss: 7.0917e-05 - mean_squared_error: 7.0917e-05 - val_loss: 9.9686e-04 - val_mean_squared_error: 9.9686e-04\n",
            "Epoch 51/100\n",
            "699/699 [==============================] - 2s 2ms/step - loss: 7.1438e-05 - mean_squared_error: 7.1438e-05 - val_loss: 0.0010 - val_mean_squared_error: 0.0010\n",
            "Epoch 52/100\n",
            "699/699 [==============================] - 2s 2ms/step - loss: 7.0585e-05 - mean_squared_error: 7.0585e-05 - val_loss: 9.9236e-04 - val_mean_squared_error: 9.9236e-04\n",
            "Epoch 53/100\n",
            "699/699 [==============================] - 1s 2ms/step - loss: 7.2145e-05 - mean_squared_error: 7.2145e-05 - val_loss: 9.6037e-04 - val_mean_squared_error: 9.6037e-04\n",
            "Epoch 54/100\n",
            "699/699 [==============================] - 2s 2ms/step - loss: 6.9957e-05 - mean_squared_error: 6.9957e-05 - val_loss: 9.3283e-04 - val_mean_squared_error: 9.3283e-04\n",
            "Epoch 55/100\n",
            "699/699 [==============================] - 2s 3ms/step - loss: 6.8346e-05 - mean_squared_error: 6.8346e-05 - val_loss: 9.3956e-04 - val_mean_squared_error: 9.3956e-04\n",
            "Epoch 56/100\n",
            "699/699 [==============================] - 2s 2ms/step - loss: 6.7220e-05 - mean_squared_error: 6.7220e-05 - val_loss: 9.4981e-04 - val_mean_squared_error: 9.4981e-04\n",
            "Epoch 57/100\n",
            "699/699 [==============================] - 2s 2ms/step - loss: 6.6193e-05 - mean_squared_error: 6.6193e-05 - val_loss: 9.5429e-04 - val_mean_squared_error: 9.5429e-04\n",
            "Epoch 58/100\n",
            "699/699 [==============================] - 1s 2ms/step - loss: 7.0111e-05 - mean_squared_error: 7.0111e-05 - val_loss: 9.3040e-04 - val_mean_squared_error: 9.3040e-04\n",
            "Epoch 59/100\n",
            "699/699 [==============================] - 2s 2ms/step - loss: 6.7640e-05 - mean_squared_error: 6.7640e-05 - val_loss: 9.3473e-04 - val_mean_squared_error: 9.3473e-04\n",
            "Epoch 60/100\n",
            "699/699 [==============================] - 2s 2ms/step - loss: 6.7653e-05 - mean_squared_error: 6.7653e-05 - val_loss: 9.3115e-04 - val_mean_squared_error: 9.3115e-04\n",
            "Epoch 61/100\n",
            "699/699 [==============================] - 2s 3ms/step - loss: 6.4545e-05 - mean_squared_error: 6.4545e-05 - val_loss: 9.2933e-04 - val_mean_squared_error: 9.2933e-04\n",
            "Epoch 62/100\n",
            "699/699 [==============================] - 2s 2ms/step - loss: 6.1339e-05 - mean_squared_error: 6.1339e-05 - val_loss: 9.2392e-04 - val_mean_squared_error: 9.2392e-04\n",
            "Epoch 63/100\n",
            "699/699 [==============================] - 2s 2ms/step - loss: 6.2890e-05 - mean_squared_error: 6.2890e-05 - val_loss: 9.3602e-04 - val_mean_squared_error: 9.3602e-04\n",
            "Epoch 64/100\n",
            "699/699 [==============================] - 2s 2ms/step - loss: 6.1976e-05 - mean_squared_error: 6.1976e-05 - val_loss: 9.0946e-04 - val_mean_squared_error: 9.0946e-04\n",
            "Epoch 65/100\n",
            "699/699 [==============================] - 2s 2ms/step - loss: 6.2473e-05 - mean_squared_error: 6.2473e-05 - val_loss: 8.5112e-04 - val_mean_squared_error: 8.5112e-04\n",
            "Epoch 66/100\n",
            "699/699 [==============================] - 2s 2ms/step - loss: 6.1695e-05 - mean_squared_error: 6.1695e-05 - val_loss: 8.7768e-04 - val_mean_squared_error: 8.7768e-04\n",
            "Epoch 67/100\n",
            "699/699 [==============================] - 2s 2ms/step - loss: 6.2764e-05 - mean_squared_error: 6.2764e-05 - val_loss: 9.1404e-04 - val_mean_squared_error: 9.1404e-04\n"
          ],
          "name": "stdout"
        },
        {
          "output_type": "display_data",
          "data": {
            "image/png": "[encoded data removed]",
            "text/plain": [
              "<Figure size 432x288 with 1 Axes>"
            ]
          },
          "metadata": {
            "tags": []
          }
        }
      ]
    },
    {
      "cell_type": "markdown",
      "metadata": {
        "id": "NuImZgoSlqXM",
        "colab_type": "text"
      },
      "source": [
        "###Test Models"
      ]
    },
    {
      "cell_type": "code",
      "metadata": {
        "id": "RXP3Qgh-6Pm4",
        "colab_type": "code",
        "colab": {}
      },
      "source": [
        "def testModel (testData,model):\n",
        "    X         = extractX(testData,outputs,window_len,zero_base,isTest=True)\n",
        "    Y         = extractX(testData,outputs,window_len,zero_base,isTest=True)\n",
        "    predZ     = model.predict(X).squeeze()\n",
        "    predR     = predZ*0\n",
        "    colName   = []\n",
        "    k= 0\n",
        "    if zero_base:\n",
        "      for i in range(len(outputs)):\n",
        "        for j in range(len(outputs.columns)):\n",
        "          if outputs.iloc[i,j]!=None:\n",
        "            c = outputs.iloc[i,j] +'+'+ str(i+1)\n",
        "            colName.append(c)\n",
        "            predR[:,k] =  testData[outputs.iloc[i,j]][:-window_len].values * (predZ[:,k]+1)\n",
        "            k = k+1\n",
        "    return pd.DataFrame(predR,index = testData.iloc[window_len:].index,columns=colName)\n",
        "\n",
        "pr0 = testModel(test,models[0])\n",
        "pr1 = testModel(test,models[1])"
      ],
      "execution_count": 0,
      "outputs": []
    },
    {
      "cell_type": "markdown",
      "metadata": {
        "id": "vzZo1UGJl2Bp",
        "colab_type": "text"
      },
      "source": [
        "###Visualize Results"
      ]
    },
    {
      "cell_type": "code",
      "metadata": {
        "id": "m5M-nyAYl66G",
        "colab_type": "code",
        "colab": {
          "base_uri": "https://localhost:8080/",
          "height": 158
        },
        "outputId": "9e0a9a53-1967-4f6f-8cf7-ba599cc8570b"
      },
      "source": [
        "realRes = extractY(test,outputs,window_len,zero_base=False,isTest=True)\n",
        "diff1  = (realRes-pr0).head(len(realRes)-len(outputs))\n",
        "diff2  = (realRes-pr1).head(len(realRes)-len(outputs))\n",
        "print('mean error:')\n",
        "print(abs(diff1).mean())\n",
        "print('---')\n",
        "print(abs(diff2).mean())"
      ],
      "execution_count": 12,
      "outputs": [
        {
          "output_type": "stream",
          "text": [
            "mean error:\n",
            "close+1    147.284463\n",
            "high+2     211.808459\n",
            "dtype: float64\n",
            "---\n",
            "close+1    282.634032\n",
            "high+2     292.048062\n",
            "dtype: float64\n"
          ],
          "name": "stdout"
        }
      ]
    }
  ]
}